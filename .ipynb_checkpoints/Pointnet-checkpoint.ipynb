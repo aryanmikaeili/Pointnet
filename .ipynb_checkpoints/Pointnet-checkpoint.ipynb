{
 "cells": [
  {
   "cell_type": "code",
   "execution_count": 1,
   "metadata": {
    "id": "y3t3s1ES5sHR"
   },
   "outputs": [],
   "source": [
    "import numpy as np\n",
    "import random\n",
    "import math\n",
    "\n",
    "import plotly\n",
    "import plotly.graph_objects as go\n",
    "from plotly.offline import download_plotlyjs, init_notebook_mode, plot, iplot\n",
    "\n",
    "import matplotlib.pyplot as plt\n",
    "import torch\n",
    "from torchvision import transforms\n",
    "from torch.utils.data import DataLoader, Dataset\n",
    "import torch.nn as nn\n",
    "import torch.nn.functional as F\n",
    "import torch.optim as optim\n",
    "\n",
    "from tqdm.auto import tqdm, trange\n",
    "\n",
    "from os import listdir, path\n",
    "import os\n",
    "\n",
    "import json"
   ]
  },
  {
   "cell_type": "code",
   "execution_count": 2,
   "metadata": {
    "id": "0ygveGdHrm6c"
   },
   "outputs": [],
   "source": [
    "def configure_plotly_browser_state():\n",
    "  import IPython\n",
    "  display(IPython.core.display.HTML('''\n",
    "        <script src=\"/static/components/requirejs/require.js\"></script>\n",
    "        <script>\n",
    "          requirejs.config({\n",
    "            paths: {\n",
    "              base: '/static/base',\n",
    "              plotly: 'https://cdn.plot.ly/plotly-latest.min.js?noext',\n",
    "            },\n",
    "          });\n",
    "        </script>\n",
    "        '''))"
   ]
  },
  {
   "cell_type": "code",
   "execution_count": 3,
   "metadata": {
    "colab": {
     "base_uri": "https://localhost:8080/"
    },
    "id": "Exi-z5T2_PiN",
    "outputId": "18ab5815-1536-4806-f220-e84d72bee695"
   },
   "outputs": [
    {
     "name": "stdout",
     "output_type": "stream",
     "text": [
      "Mounted at /content/drive\n",
      "/content/drive/My Drive\n",
      "/content\n",
      "/content/modelnet40_data\n"
     ]
    }
   ],
   "source": [
    "from google.colab import drive\n",
    "\n",
    "drive.mount('/content/drive', force_remount=True)\n",
    "\n",
    "FOLDERNAME = 'modelnet40_data'\n",
    "\n",
    "%cd drive/My\\ Drive\n",
    "%cp -r $FOLDERNAME ../../\n",
    "%cd ../../\n",
    "%cd modelnet40_data/"
   ]
  },
  {
   "cell_type": "code",
   "execution_count": 4,
   "metadata": {
    "colab": {
     "base_uri": "https://localhost:8080/"
    },
    "id": "rgQoUqeaV_HK",
    "outputId": "405b256d-01a0-4645-8774-5e16c56ad0d3"
   },
   "outputs": [
    {
     "data": {
      "text/plain": [
       "((9840, 2048, 3), (9840,), (2468, 2048, 3), (2468,))"
      ]
     },
     "execution_count": 4,
     "metadata": {
      "tags": []
     },
     "output_type": "execute_result"
    }
   ],
   "source": [
    "train_data = np.load('modelnet40_train_data.npy')\n",
    "test_data = np.load('modelnet40_test_data.npy')\n",
    "\n",
    "train_labels = np.load('modelnet40_train_labels.npy').astype('int')\n",
    "test_labels = np.load('modelnet40_test_labels.npy').astype('int')\n",
    "\n",
    "train_data.shape, train_labels.shape, test_data.shape, test_labels.shape"
   ]
  },
  {
   "cell_type": "code",
   "execution_count": 13,
   "metadata": {
    "id": "183OiH4-qHGq"
   },
   "outputs": [],
   "source": [
    "class PointSampler(object):\n",
    "  def __init__(self, sample_num):\n",
    "    self.sample_num = sample_num\n",
    "\n",
    "\n",
    "  def __call__(self, points):\n",
    "  \n",
    "    new_points = points[np.random.choice(2048, self.sample_num, replace = False)]\n",
    "\n",
    "    return new_points\n",
    "\n",
    "class PointCut(object):\n",
    "  def __init__(self, sample_num):\n",
    "    self.sample_num = sample_num\n",
    "\n",
    "\n",
    "  def __call__(self, points):\n",
    "  \n",
    "    new_points = points[:self.sample_num]\n",
    "\n",
    "    return new_points\n",
    "class Normalize(object):\n",
    "  def __call__(self, verts):\n",
    "    normalized_points = verts - np.mean(verts, axis=0)\n",
    "    max_norm = np.max(np.linalg.norm(normalized_points, axis=1))\n",
    "\n",
    "    normalized_points = normalized_points / max_norm\n",
    "\n",
    "    return normalized_points\n",
    "\n",
    "class RandomRotate(object):\n",
    "\n",
    "  def __call__(self, verts):\n",
    "    theta = 2 * np.random.uniform() * np.pi\n",
    "    rotation_mat = np.array([[np.cos(theta), 0, np.sin(theta)], [0, 1, 0], [-np.sin(theta), 0, np.cos(theta)]])\n",
    "    rotated = np.matmul(verts, rotation_mat)\n",
    "\n",
    "    return rotated\n",
    "\n",
    " \n",
    "class RandomNoise(object):\n",
    "\n",
    "  def __call__(self, verts):\n",
    "    noise = np.random.normal(0, 0.01, verts.shape)\n",
    "    noise = np.clip(noise, -0.05, 0.05)\n",
    "    return verts + noise\n",
    "\n",
    "class toTensor(object):\n",
    "\n",
    "  def __call__(self, verts):\n",
    "     return torch.from_numpy(verts)\n"
   ]
  },
  {
   "cell_type": "code",
   "execution_count": 15,
   "metadata": {
    "id": "EfRjSYm5ZlY1"
   },
   "outputs": [],
   "source": [
    "default_transform = transforms.Compose(\n",
    "    [\n",
    "      \n",
    "       Normalize(),\n",
    "       toTensor()]\n",
    ")\n",
    "\n",
    "train_transform = transforms.Compose(\n",
    "      [\n",
    "       PointSampler(1024),\n",
    "       Normalize(),\n",
    "       RandomNoise(),\n",
    "       RandomRotate(),\n",
    "       toTensor()]\n",
    ")"
   ]
  },
  {
   "cell_type": "code",
   "execution_count": 16,
   "metadata": {
    "id": "9uYurC4cOatk"
   },
   "outputs": [],
   "source": [
    "class PointnetDataset(Dataset):\n",
    "  def __init__(self, X, y, transform = train_transform):\n",
    "    self.X = X\n",
    "    self.y = y\n",
    "\n",
    "    self.transform = transform\n",
    "  def __len__(self):\n",
    "    return len(self.y)\n",
    "\n",
    "\n",
    "  def __getitem__(self, idx):\n",
    "    x = self.X[idx]\n",
    "    x = self.transform(x)\n",
    "    y = torch.tensor(self.y[idx])\n",
    "\n",
    "    return x, y\n"
   ]
  },
  {
   "cell_type": "code",
   "execution_count": 17,
   "metadata": {
    "id": "qI_Of4sCTLhu"
   },
   "outputs": [],
   "source": [
    "trainset = PointnetDataset(train_data, train_labels)\n",
    "testset = PointnetDataset(test_data, test_labels, transform = default_transform)\n",
    "\n",
    "trainloader = DataLoader(trainset, batch_size = 32, shuffle = True)\n",
    "testloader = DataLoader(testset, batch_size = 32, shuffle = True)"
   ]
  },
  {
   "cell_type": "code",
   "execution_count": 18,
   "metadata": {
    "colab": {
     "base_uri": "https://localhost:8080/"
    },
    "id": "MbpVrNqD_KQG",
    "outputId": "d3f73b47-e69b-4438-b64d-1d0897351b87"
   },
   "outputs": [
    {
     "name": "stdout",
     "output_type": "stream",
     "text": [
      "running on GPU\n"
     ]
    }
   ],
   "source": [
    "if torch.cuda.is_available():\n",
    "  device = torch.device('cuda:0')\n",
    "  print('running on GPU')\n",
    "else:\n",
    "  device = torch.device('cpu')\n",
    "  print('running on CPU')\n",
    "\n"
   ]
  },
  {
   "cell_type": "code",
   "execution_count": 19,
   "metadata": {
    "id": "DG0LvUAWWjXn"
   },
   "outputs": [],
   "source": [
    "class Tnet(nn.Module):\n",
    "\n",
    "  def __init__(self, k):\n",
    "    super().__init__()\n",
    "\n",
    "    self.k = k\n",
    "\n",
    "    self.mlp1 = nn.Conv1d(in_channels=k, out_channels=64, kernel_size=1)\n",
    "    self.mlp2 = nn.Conv1d(in_channels=64, out_channels=128, kernel_size=1)\n",
    "    self.mlp3 = nn.Conv1d(in_channels=128, out_channels=1024, kernel_size=1)\n",
    "\n",
    "    self.maxpool = nn.MaxPool1d(1024)\n",
    "\n",
    "    self.fc1 = nn.Linear(in_features = 1024, out_features=512)\n",
    "    self.fc2 = nn.Linear(in_features = 512, out_features=256)\n",
    "    self.fc3 = nn.Linear(in_features = 256, out_features= k * k)\n",
    "\n",
    "    self.bn1 = nn.BatchNorm1d(64)\n",
    "    self.bn2 = nn.BatchNorm1d(128)\n",
    "    self.bn3 = nn.BatchNorm1d(1024)\n",
    "    self.bn4 = nn.BatchNorm1d(512)\n",
    "    self.bn5 = nn.BatchNorm1d(256)\n",
    "\n",
    "    self.relu = nn.ReLU()\n",
    "\n",
    "  def forward(self, x):\n",
    "\n",
    "    batch_size = x.shape[0]\n",
    "    x = self.mlp1(x)\n",
    "    x = self.bn1(x)\n",
    "    x = self.relu(x)\n",
    "    \n",
    "\n",
    "    x = self.mlp2(x)\n",
    "    x = self.bn2(x)\n",
    "    x = self.relu(x)\n",
    "\n",
    "\n",
    "    x = self.mlp3(x)\n",
    "    x = self.bn3(x)\n",
    "    x = self.relu(x)\n",
    "     \n",
    "    x = nn.MaxPool1d(x.shape[-1])(x)\n",
    "\n",
    "    x = nn.Flatten()(x)\n",
    "\n",
    "\n",
    "    x = self.fc1(x)\n",
    "    x = self.bn4(x)\n",
    "    x = self.relu(x)\n",
    "\n",
    "    x = self.fc2(x)\n",
    "    x = self.bn5(x)\n",
    "    x = self.relu(x)\n",
    "\n",
    "    x = self.fc3(x)\n",
    "\n",
    "    init = torch.eye(self.k, requires_grad=True, device=device).repeat(batch_size, 1, 1)\n",
    "    res = x.view((-1, self.k, self.k)) + init\n",
    "\n",
    "    return res\n",
    "\n",
    "\n",
    "\n",
    "\n",
    "\n",
    "\n",
    "\n"
   ]
  },
  {
   "cell_type": "code",
   "execution_count": 20,
   "metadata": {
    "id": "DGTam2R6eYhe"
   },
   "outputs": [],
   "source": [
    "class TransformNet(nn.Module):\n",
    "  def __init__(self):\n",
    "      super().__init__()\n",
    "      self.Tnet3 = Tnet(3)\n",
    "      self.Tnet64 = Tnet(64)\n",
    "\n",
    "      self.mlp1 = nn.Conv1d(in_channels=3, out_channels = 64, kernel_size=1)\n",
    "\n",
    "      self.mlp2 = nn.Conv1d(in_channels=64, out_channels = 128, kernel_size=1)\n",
    "\n",
    "      self.mlp3 = nn.Conv1d(in_channels=128, out_channels = 1024, kernel_size=1)\n",
    "\n",
    "      self.bn1 = nn.BatchNorm1d(64)\n",
    "      self.bn2 = nn.BatchNorm1d(128)\n",
    "      self.bn3 = nn.BatchNorm1d(1024)\n",
    "\n",
    "      self.maxpool = nn.MaxPool1d(1024)\n",
    "      self.relu = nn.ReLU()\n",
    "\n",
    "  def forward(self, x):\n",
    "    rot_mat3 = self.Tnet3(x)\n",
    "    x = x.transpose(1, 2)\n",
    "\n",
    "    x = torch.bmm(x, rot_mat3)\n",
    "\n",
    "    x = x.transpose(1, 2)\n",
    "\n",
    "    x = self.mlp1(x)\n",
    "    x = self.bn1(x)\n",
    "    x = self.relu(x)\n",
    "\n",
    "    rot_mat64 = self.Tnet64(x)\n",
    "    x = x.transpose(1, 2)\n",
    "\n",
    "    x = torch.bmm(x, rot_mat64)\n",
    "\n",
    "    x = x.transpose(1, 2)\n",
    "\n",
    "    x = self.mlp2(x)\n",
    "    x = self.bn2(x)\n",
    "    x = self.relu(x)\n",
    "\n",
    "\n",
    "    x = self.mlp3(x)\n",
    "    x = self.bn3(x)\n",
    "\n",
    "    x = nn.MaxPool1d(x.shape[-1])(x)\n",
    "\n",
    "    x = nn.Flatten()(x)\n",
    "\n",
    "    \n",
    "    return x, rot_mat3, rot_mat64\n",
    "\n",
    "\n",
    "\n",
    "\n"
   ]
  },
  {
   "cell_type": "code",
   "execution_count": 21,
   "metadata": {
    "id": "HrSGbAAOXOb6"
   },
   "outputs": [],
   "source": [
    "class Pointnet(nn.Module):\n",
    "  def __init__(self):\n",
    "      super().__init__()\n",
    "      self.transformnet = TransformNet()\n",
    "\n",
    "      self.fc1 = nn.Linear(in_features=1024, out_features=512)\n",
    "      self.fc2 = nn.Linear(in_features=512, out_features=256)\n",
    "      self.fc3 = nn.Linear(in_features=256, out_features=40)\n",
    "\n",
    "      self.bn1 = nn.BatchNorm1d(512)\n",
    "      self.bn2 = nn.BatchNorm1d(256)\n",
    "\n",
    "      self.relu = nn.ReLU()\n",
    "  \n",
    "  def forward(self, x):\n",
    "    res, rot3, rot64 = self.transformnet(x)\n",
    "    \n",
    "    res = self.fc1(res)\n",
    "    res = self.bn1(res)\n",
    "    res = self.relu(res)\n",
    "\n",
    "    res = F.dropout(res, p = 0.3, training = self.training)\n",
    "        \n",
    "    res = self.fc2(res)\n",
    "    res = self.bn2(res)\n",
    "    res = self.relu(res)\n",
    "\n",
    "\n",
    "    res = F.dropout(res, p = 0.3, training = self.training)\n",
    "\n",
    "    res = self.fc3(res)\n",
    "\n",
    "    return res, rot3, rot64\n",
    "\n",
    "      \n"
   ]
  },
  {
   "cell_type": "code",
   "execution_count": 22,
   "metadata": {
    "id": "qS2nPpvCY1pi"
   },
   "outputs": [],
   "source": [
    "def loss_function(output, true, rot64, alpha = 0.001):\n",
    "  criterion = nn.CrossEntropyLoss()\n",
    "\n",
    "  batch_size = output.shape[0]\n",
    "\n",
    "  i64 = torch.eye(64, requires_grad=True, device=device).repeat(batch_size, 1, 1)\n",
    "\n",
    "  mat64 = torch.bmm(rot64, rot64.transpose(1, 2))\n",
    "\n",
    "  dif64 = nn.MSELoss(reduction='sum')(mat64, i64) / batch_size\n",
    "\n",
    "  loss1 = criterion(output, true)\n",
    "  loss2 = dif64\n",
    "  loss = loss1 + alpha * loss2\n",
    "\n",
    "  return loss, loss1, loss2"
   ]
  },
  {
   "cell_type": "code",
   "execution_count": 23,
   "metadata": {
    "id": "SwMU84ldaTD9"
   },
   "outputs": [],
   "source": [
    "LOG_INTERVAL = 20\n",
    "def train(model, optimizer, verbose = True):\n",
    "  model.train()\n",
    "  train_loss = 0\n",
    " \n",
    "\n",
    "  for batch_idx, data in enumerate(tqdm(trainloader, desc='Batches', leave=False)):\n",
    "    points, labels = data\n",
    "    points = points.to(device)\n",
    "    labels = labels.to(device)\n",
    "    points = points.transpose(1,2).float()\n",
    "\n",
    "    optimizer.zero_grad()\n",
    "\n",
    "    o, rot3, rot64 = model(points)\n",
    "\n",
    "    loss, ce, reg = loss_function(o, labels,  rot64)\n",
    "\n",
    "    train_loss += loss.item()\n",
    "    \n",
    "    loss.backward()\n",
    "    optimizer.step()\n",
    "    if verbose and batch_idx % LOG_INTERVAL == LOG_INTERVAL-1:\n",
    "          print('    Train [%d/%d]\\t | \\tLoss: %.5f, \\tCross Entropy: %.5f, \\tRegularization: %.5f' % (batch_idx * o.shape[0], len(trainloader.dataset), loss.item(), ce.item(), reg.item()))\n",
    "  train_loss /= batch_idx\n",
    "  if verbose:\n",
    "      print('==> Train | Average loss: %.4f' % train_loss)\n",
    "  return train_loss\n",
    "\n"
   ]
  },
  {
   "cell_type": "code",
   "execution_count": 24,
   "metadata": {
    "id": "lpRVVS9-f7xf"
   },
   "outputs": [],
   "source": [
    "def test(model, verbose = True):\n",
    "   model.eval()\n",
    "   test_loss = 0\n",
    "\n",
    "   total = 0\n",
    "   correct = 0\n",
    "   with torch.no_grad():\n",
    "     for i, data in enumerate(testloader):\n",
    "          points, labels = data\n",
    "          points = points.to(device)\n",
    "          labels = labels.to(device)\n",
    "          points = points.transpose(1,2).float()\n",
    "\n",
    "          o, rot3, rot64 = model(points)\n",
    "\n",
    "          _, predicted = torch.max(o.data, 1)\n",
    "\n",
    "        \n",
    "\n",
    "          total += labels.shape[0]\n",
    "\n",
    "          correct += (labels == predicted).sum().item()\n",
    "\n",
    "          loss, _, _ = loss_function(o, labels,  rot64)\n",
    "          test_loss += loss.item() \n",
    "\n",
    "     test_loss /= i\n",
    "     acc = 100 * (correct / total)\n",
    "     if verbose:\n",
    "        print('==> Test  | Average loss: %.4f' % test_loss)\n",
    "        print('==> Test  | Accuracy: %.4f' % acc)\n",
    "     return test_loss, acc\n",
    "\n",
    "\n",
    "def test_acc(model, testdata,  verbose = True):\n",
    "   model.eval()\n",
    "\n",
    "   total = 0\n",
    "   correct = 0\n",
    "   predictions_all = torch.tensor([]).to(device)\n",
    "   true_all = torch.tensor([]).to(device)\n",
    "   with torch.no_grad():\n",
    "     for i, data in enumerate(testdata):\n",
    "          points, labels = data\n",
    "          points = points.to(device)\n",
    "          labels = labels.to(device)\n",
    "          points = points.transpose(1,2).float()\n",
    "\n",
    "          o, _, _ = model(points)\n",
    "          _, predicted = torch.max(o.data, 1)\n",
    "          \n",
    "          total += labels.shape[0]\n",
    "          predictions_all = torch.cat([predictions_all, predicted])\n",
    "          true_all = torch.cat([true_all, labels])\n",
    "          correct += (labels == predicted).sum().item()\n",
    "     acc = 100 * (correct / total)\n",
    "     if verbose:\n",
    "        print('==> Test  | Accuracy: %.4f' % acc)\n",
    "     return acc, predictions_all, true_all\n",
    "         \n",
    "         \n"
   ]
  },
  {
   "cell_type": "code",
   "execution_count": 25,
   "metadata": {
    "id": "o6CJksbJgRZi"
   },
   "outputs": [],
   "source": [
    "def run(model, n_epoch, optimizer_state_dict = None, verbose = True):\n",
    "  model.to(device)\n",
    "  lr = 1e-3\n",
    "  best_acc = 0\n",
    "  optimizer = optim.Adam(model.parameters(), lr = lr)\n",
    "  if optimizer_state_dict is not None:\n",
    "    optimizer.load_state_dict(optimizer_state_dict)\n",
    "  train_hist = []\n",
    "  test_hist = []\n",
    "  for epoch in trange(1, n_epoch+1, desc='Epochs', leave=True):\n",
    "        if epoch % 20 == 19:\n",
    "          lr = lr * 0.5\n",
    "          #lr = max(lr, 1e-5)\n",
    "          for param_group in optimizer.param_groups:\n",
    "            param_group['lr'] = lr\n",
    "        if verbose:\n",
    "            print('\\nEpoch %d:' % epoch)\n",
    "            print(best_acc)\n",
    "        train_loss = train(model, optimizer, verbose)\n",
    "        test_loss, acc = test(model)\n",
    "\n",
    "        torch.save({\n",
    "            'model_state_dict': model.state_dict(),\n",
    "            'optimizer_state_dict': optimizer.state_dict()}, 'checkpoint.pt')\n",
    "        train_hist.append(train_loss)\n",
    "        test_hist.append(test_loss)\n",
    "       \n",
    "  return train_hist, test_hist"
   ]
  },
  {
   "cell_type": "code",
   "execution_count": null,
   "metadata": {
    "id": "2xLqqaBEgbcl"
   },
   "outputs": [],
   "source": [
    "model = Pointnet().to(device)\n",
    "n_epochs = 250\n",
    "\n",
    "train_hist, test_hist = run(model, n_epochs)\n",
    "torch.save({\n",
    "            'model_state_dict': model.state_dict()}, 'model22.pt')\n"
   ]
  },
  {
   "cell_type": "code",
   "execution_count": null,
   "metadata": {
    "id": "2iFKvC8LVR3K"
   },
   "outputs": [],
   "source": [
    "epoch_range = np.arange(250)\n",
    "plt.plot(epoch_range, train_hist)\n",
    "plt.plot(epoch_range, test_hist)"
   ]
  },
  {
   "cell_type": "code",
   "execution_count": null,
   "metadata": {
    "id": "3Nc2ROR0_NH3"
   },
   "outputs": [],
   "source": []
  }
 ],
 "metadata": {
  "accelerator": "GPU",
  "colab": {
   "collapsed_sections": [],
   "name": "pointnet_(7)_(1)_3.ipynb",
   "provenance": []
  },
  "kernelspec": {
   "display_name": "Python 3",
   "language": "python",
   "name": "python3"
  },
  "language_info": {
   "codemirror_mode": {
    "name": "ipython",
    "version": 3
   },
   "file_extension": ".py",
   "mimetype": "text/x-python",
   "name": "python",
   "nbconvert_exporter": "python",
   "pygments_lexer": "ipython3",
   "version": "3.8.3"
  }
 },
 "nbformat": 4,
 "nbformat_minor": 1
}
